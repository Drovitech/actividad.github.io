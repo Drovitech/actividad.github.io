{
  "cells": [
    {
      "cell_type": "code",
      "execution_count": null,
      "metadata": {
        "colab": {
          "base_uri": "https://localhost:8080/",
          "height": 1000
        },
        "id": "nQPGxL3XoZQ7",
        "outputId": "52f11ac9-7d46-426c-957d-6f75e580e41f"
      },
      "outputs": [
        {
          "name": "stderr",
          "output_type": "stream",
          "text": [
            "\"apt-get\" no se reconoce como un comando interno o externo,\n",
            "programa o archivo por lotes ejecutable.\n",
            "\"apt-get\" no se reconoce como un comando interno o externo,\n",
            "programa o archivo por lotes ejecutable.\n",
            "\n",
            "[notice] A new release of pip is available: 25.2 -> 25.3\n",
            "[notice] To update, run: python.exe -m pip install --upgrade pip\n"
          ]
        },
        {
          "name": "stdout",
          "output_type": "stream",
          "text": [
            "CSV simulado guardado: clickstream.csv\n"
          ]
        }
      ],
      "source": [
        "import os\n",
        "os.environ['JAVA_HOME'] = '/usr/lib/jvm/java-11-openjdk-amd64'\n",
        "\n",
        "\n",
        "# 2) Se procede a crear un dataset simulado\n",
        "import pandas as pd\n",
        "from datetime import datetime, timedelta\n",
        "import random\n",
        "\n",
        "\n",
        "n = 1000\n",
        "start = datetime.now()\n",
        "rows = []\n",
        "for i in range(n):\n",
        "\tts = start + timedelta(seconds=random.randint(0, 3600))\n",
        "\tuser = f'user_{random.randint(1,50)}'\n",
        "\tclicks = random.randint(1,5)\n",
        "\trows.append({'Timestamp': ts.strftime('%Y-%m-%d %H:%M:%S'), 'User_ID': user, 'Clicks': clicks})\n",
        "\n",
        "\n",
        "df_sim = pd.DataFrame(rows)\n",
        "df_sim.to_csv('clickstream.csv', index=False)\n",
        "print('CSV simulado guardado: clickstream.csv')\n",
        "\n",
        "# 3) Se inicia Spark (PySpark) dentro de Colab\n",
        "import findspark\n",
        "findspark.init()\n",
        "from pyspark.sql import SparkSession\n",
        "from pyspark.sql.functions import col, window, sum as spark_sum, to_timestamp\n",
        "\n",
        "\n",
        "spark = SparkSession.builder \\\n",
        ".appName('ClickstreamAnalysis') \\\n",
        ".config('spark.ui.port', '4041') \\\n",
        ".getOrCreate()\n",
        "\n",
        "\n",
        "# 4) Cargar CSV (DataFrame) de Spark\n",
        "sdf = spark.read.option('header', True).csv('clickstream.csv')\n",
        "# Convertir Timestamp a tipo timestamp y Clicks a entero\n",
        "sdf = sdf.withColumn('ts', to_timestamp(col('Timestamp'), 'yyyy-MM-dd HH:mm:ss')) \\\n",
        ".withColumn('Clicks', col('Clicks').cast('integer'))\n",
        "sdf.printSchema()\n",
        "sdf.show(5, truncate=False)\n",
        "\n",
        "# 5) Simulación de procesamiento en ventanas de 1 minuto\n",
        "# Agrupar por ventana (1 minuto y User_ID) y luego se Clicks\n",
        "result = sdf.groupBy(window(col('ts'), '1 minute'), col('User_ID')) \\\n",
        ".agg(spark_sum('Clicks').alias('clicks_per_min')) \\\n",
        ".orderBy('window')\n",
        "\n",
        "\n",
        "# Se muestran algunas filas\n",
        "result.show(10, truncate=False)\n",
        "\n",
        "\n",
        "# Convertir a pandas con la misión de graficar (pequeño resultado)\n",
        "pandas_res = result.toPandas()\n",
        "# Aplanar la ventana (start time)\n",
        "pandas_res['window_start'] = pandas_res['window'].apply(lambda w: w.start)\n",
        "\n",
        "\n",
        "# Implementar un resumen por usuario total (sobre todo el periodo simulado)\n",
        "user_summary = pandas_res.groupby('User_ID')['clicks_per_min'].sum().reset_index()\n",
        "user_summary = user_summary.sort_values('clicks_per_min', ascending=False)\n",
        "user_summary.head(10)\n",
        "\n",
        "# 6) Visualizazión (matplotlib)\n",
        "import matplotlib.pyplot as plt\n",
        "\n",
        "\n",
        "# Gráfica con el top 10 de usuarios por clics\n",
        "top10 = user_summary.head(10)\n",
        "plt.figure(figsize=(10,6))\n",
        "plt.bar(top10['User_ID'], top10['clicks_per_min'])\n",
        "plt.xlabel('User_ID')\n",
        "plt.ylabel('Total Clicks (ventanas de 1 min)')\n",
        "plt.title('Top 10 usuarios por clics')\n",
        "plt.xticks(rotation=45)\n",
        "plt.tight_layout()\n",
        "plt.savefig('top10_clicks.png')\n",
        "plt.show()"
      ]
    }
  ],
  "metadata": {
    "colab": {
      "provenance": []
    },
    "kernelspec": {
      "display_name": "Python 3",
      "name": "python3"
    },
    "language_info": {
      "codemirror_mode": {
        "name": "ipython",
        "version": 3
      },
      "file_extension": ".py",
      "mimetype": "text/x-python",
      "name": "python",
      "nbconvert_exporter": "python",
      "pygments_lexer": "ipython3",
      "version": "3.13.7"
    }
  },
  "nbformat": 4,
  "nbformat_minor": 0
}
